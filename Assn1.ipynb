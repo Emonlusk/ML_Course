{
 "cells": [
  {
   "cell_type": "markdown",
   "metadata": {},
   "source": [
    "<center>\n",
    "    <img src=\"https://cf-courses-data.s3.us.cloud-object-storage.appdomain.cloud/IBMDeveloperSkillsNetwork-DS0105EN-SkillsNetwork/labs/Module2/images/SN_web_lightmode.png\" width=\"300\" alt=\"cognitiveclass.ai logo\">\n",
    "</center>\n"
   ]
  },
  {
   "cell_type": "markdown",
   "metadata": {},
   "source": [
    "#### Add your code below following the instructions given in the course\n"
   ]
  },
  {
   "cell_type": "markdown",
   "metadata": {},
   "source": [
    "# Assignment 1"
   ]
  },
  {
   "cell_type": "markdown",
   "metadata": {},
   "source": [
    "#### Hey there, my name is kartik and this is my first assignment."
   ]
  },
  {
   "cell_type": "markdown",
   "metadata": {},
   "source": [
    "### Popular Data Science Languages\n",
    "\n",
    "1. **Python**\n",
    "2. **R**\n",
    "3. **SQL**\n",
    "4. **Java**\n",
    "5. **Scala**\n",
    "6. **Julia**\n",
    "7. **MATLAB**\n",
    "8. **SAS**\n",
    "9. **JavaScript**\n",
    "10. **Swift**\n"
   ]
  },
  {
   "cell_type": "markdown",
   "metadata": {},
   "source": [
    "### Popular Data Science Libraries\n",
    "\n",
    "1. **Pandas** - Data manipulation and analysis.\n",
    "2. **NumPy** - Numerical computations and array operations.\n",
    "3. **Scikit-Learn** - Machine learning and data mining.\n",
    "4. **Matplotlib** - Data visualization.\n",
    "5. **Seaborn** - Statistical data visualization.\n",
    "6. **TensorFlow** - Deep learning and neural networks.\n",
    "7. **Keras** - High-level neural networks API.\n",
    "8. **PyTorch** - Deep learning and artificial intelligence.\n",
    "9. **NLTK** - Natural language processing.\n",
    "10. **Statsmodels** - Statistical modeling and analysis.\n"
   ]
  },
  {
   "cell_type": "markdown",
   "metadata": {},
   "source": [
    "### Data Science Tools\n",
    "\n",
    "| Tool               | Purpose                                      |\n",
    "|--------------------|----------------------------------------------|\n",
    "| Jupyter Notebook   | Interactive coding and documentation         |\n",
    "| RStudio            | Development environment for R                |\n",
    "| Apache Spark       | Big data processing and analytics            |\n",
    "| Tableau            | Data visualization and business intelligence |\n",
    "| Hadoop             | Distributed data storage and processing      |\n",
    "| MATLAB             | Numerical computing and algorithm development|\n",
    "| Excel              | Data manipulation and simple analysis        |\n",
    "| TensorFlow         | Machine learning and deep learning framework |\n"
   ]
  },
  {
   "cell_type": "markdown",
   "metadata": {},
   "source": [
    "### Arithmetic Expression Examples\n",
    "\n",
    "Arithmetic expressions are calculations that combine numbers and operators, such as addition (+), subtraction (-), multiplication (*), and division (/). Here are some examples:\n",
    "\n",
    "- **Addition**: `3 + 4 = 7`\n",
    "- **Subtraction**: `10 - 5 = 5`\n",
    "- **Multiplication**: `6 * 7 = 42`\n",
    "- **Division**: `15 / 3 = 5`\n"
   ]
  },
  {
   "cell_type": "code",
   "execution_count": 1,
   "metadata": {},
   "outputs": [
    {
     "data": {
      "text/plain": [
       "52"
      ]
     },
     "execution_count": 1,
     "metadata": {},
     "output_type": "execute_result"
    }
   ],
   "source": [
    "# Multiplying and adding numbers\n",
    "result = (5 * 8) + 12\n",
    "result\n"
   ]
  },
  {
   "cell_type": "code",
   "execution_count": 2,
   "metadata": {},
   "outputs": [
    {
     "data": {
      "text/plain": [
       "2.0"
      ]
     },
     "execution_count": 2,
     "metadata": {},
     "output_type": "execute_result"
    }
   ],
   "source": [
    "# Convert minutes to hours\n",
    "minutes = 120\n",
    "hours = minutes / 60\n",
    "hours\n"
   ]
  },
  {
   "cell_type": "markdown",
   "metadata": {},
   "source": [
    "### Objectives\n",
    "\n",
    "1. Understand the fundamentals of data science and its applications.\n",
    "2. Explore and analyze data using popular data science tools.\n",
    "3. Apply machine learning techniques to solve real-world problems.\n",
    "4. Visualize data to gain insights and communicate results effectively.\n",
    "5. Implement best practices for data handling and model evaluation.\n"
   ]
  },
  {
   "cell_type": "markdown",
   "metadata": {},
   "source": [
    "### Author\n",
    "\n",
    "**[Kartik Babu]**\n"
   ]
  },
  {
   "cell_type": "code",
   "execution_count": null,
   "metadata": {},
   "outputs": [],
   "source": []
  }
 ],
 "metadata": {
  "kernelspec": {
   "display_name": "Python 3 (ipykernel)",
   "language": "python",
   "name": "python3"
  },
  "language_info": {
   "codemirror_mode": {
    "name": "ipython",
    "version": 3
   },
   "file_extension": ".py",
   "mimetype": "text/x-python",
   "name": "python",
   "nbconvert_exporter": "python",
   "pygments_lexer": "ipython3",
   "version": "3.11.9"
  }
 },
 "nbformat": 4,
 "nbformat_minor": 4
}
